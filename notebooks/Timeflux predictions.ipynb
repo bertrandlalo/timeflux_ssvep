{
 "cells": [
  {
   "cell_type": "markdown",
   "metadata": {},
   "source": [
    "  # Timeflux prediction\n",
    " Read the outut of timeflux replay "
   ]
  },
  {
   "cell_type": "code",
   "execution_count": 5,
   "metadata": {},
   "outputs": [],
   "source": [
    "import matplotlib.pyplot as plt \n",
    "import os\n",
    "import pandas as pd \n",
    "from pyriemann.utils.viz import plot_confusion_matrix\n",
    "import json"
   ]
  },
  {
   "cell_type": "code",
   "execution_count": 69,
   "metadata": {},
   "outputs": [
    {
     "name": "stdout",
     "output_type": "stream",
     "text": [
      "Could not find output predictions for file 9... \n",
      "=>Did you run command `timeflux -e FILE=9 -d graphs/main.yaml` ?  \n",
      "Could not find output predictions for file 10... \n",
      "=>Did you run command `timeflux -e FILE=10 -d graphs/main.yaml` ?  \n",
      "Could not find output predictions for file 11... \n",
      "=>Did you run command `timeflux -e FILE=11 -d graphs/main.yaml` ?  \n"
     ]
    }
   ],
   "source": [
    "FILE = os.getenv('FILE', 7)\n",
    "for FILE in range(1, 13):\n",
    "    try: \n",
    "        events = pd.read_hdf(f'../data/out/predictions_{FILE}.hdf5', '/replayed/events').sort_index()\n",
    "        test_events =  events.loc[events[events.label == 'train_stops'].index[0]:]\n",
    "        ytest = test_events.data.apply(lambda s: json.loads(s).get('target') if isinstance(s, str) else None).dropna()\n",
    "        ypred = test_events.data.apply(lambda s: json.loads(s).get('result') if isinstance(s, str) else None).dropna()\n",
    "        plot_confusion_matrix(ypred.values, ytest.values[:len(ypred)], set(ytest)); \n",
    "        plt.title(f'Confusion matrix of subject #{FILE}'); \n",
    "        plt.savefig(f'./fig_confusion_{FILE}.png')\n",
    "        plt.close()\n",
    "    except FileNotFoundError:\n",
    "        print(f\"Could not find output predictions for file {FILE}... \\n=> Did you run command `timeflux -e FILE={FILE} -d graphs/main.yaml` ?  \")\n",
    "        pass"
   ]
  },
  {
   "cell_type": "code",
   "execution_count": null,
   "metadata": {},
   "outputs": [],
   "source": []
  }
 ],
 "metadata": {
  "kernelspec": {
   "display_name": "Python 3",
   "language": "python",
   "name": "python3"
  },
  "language_info": {
   "codemirror_mode": {
    "name": "ipython",
    "version": 3
   },
   "file_extension": ".py",
   "mimetype": "text/x-python",
   "name": "python",
   "nbconvert_exporter": "python",
   "pygments_lexer": "ipython3",
   "version": "3.7.7"
  }
 },
 "nbformat": 4,
 "nbformat_minor": 4
}
