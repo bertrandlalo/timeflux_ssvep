{
 "cells": [
  {
   "cell_type": "markdown",
   "metadata": {},
   "source": [
    "# Prepare online pipelines offline"
   ]
  },
  {
   "cell_type": "code",
   "execution_count": 1,
   "metadata": {},
   "outputs": [],
   "source": [
    "import matplotlib.pyplot as plt \n",
    "from moabb.datasets import SSVEPExo\n",
    "from moabb.paradigms import SSVEP\n",
    "import numpy as np\n",
    "import pandas as pd \n",
    "from pyriemann.classification import MDM\n",
    "from pyriemann.clustering import Potato\n",
    "from scipy.stats import norm\n",
    "import seaborn as sns \n",
    "from sklearn.pipeline import make_pipeline\n",
    "from sklearn.metrics import accuracy_score\n",
    "\n",
    "from utils.epochs import extract_epochs\n",
    "from utils.estimation import SSVEPCovariance, SSVEPPotato"
   ]
  },
  {
   "cell_type": "markdown",
   "metadata": {},
   "source": [
    "## Read MOABB paradigm and data"
   ]
  },
  {
   "cell_type": "code",
   "execution_count": 2,
   "metadata": {},
   "outputs": [
    {
     "name": "stderr",
     "output_type": "stream",
     "text": [
      "Choosing the first 4 classes from all possible events\n"
     ]
    },
    {
     "name": "stdout",
     "output_type": "stream",
     "text": [
      "Found 12 subjects\n",
      "Found {1} sessions per subjects\n",
      "Found {2, 3, 4, 5} runs per session\n",
      "Found class {'17', '13', 'rest', '21'}\n"
     ]
    }
   ],
   "source": [
    "paradigm = SSVEP(n_classes=4)\n",
    "dataset = SSVEPExo()\n",
    "data = dataset.get_data()\n",
    "subjects = dataset.subject_list\n",
    "N = len(subjects)\n",
    "print(f'Found {N} subjects')\n",
    "print(f'Found {set([len(data[subject]) for subject in subjects])} sessions per subjects')\n",
    "print(f'Found {set([len(data[subject][\"session_0\"]) for subject in subjects])} runs per session')\n",
    "\n",
    "raw = data[12]['session_0']['run_1']\n",
    "# check we have all classes we expected\n",
    "_classes = set()\n",
    "for subject in subjects:\n",
    "    for session in data[subject].keys():\n",
    "        for run in data[subject][session].keys():\n",
    "            raw = data[subject][session][run]\n",
    "            X, y, _ = paradigm.process_raw(raw, dataset)\n",
    "            _classes = set(list(_classes) + list(set(y)))\n",
    "print(f'Found class {_classes}')"
   ]
  },
  {
   "cell_type": "markdown",
   "metadata": {},
   "source": [
    "## Epoch data: train, test"
   ]
  },
  {
   "cell_type": "code",
   "execution_count": 3,
   "metadata": {},
   "outputs": [],
   "source": [
    "# cv split  \n",
    "run_train = 'run_0'\n",
    "run_test = 'run_1'\n",
    "\n",
    "# epoch onset/offset\n",
    "tmin = 1\n",
    "tmax = 7\n",
    "\n",
    "# for 4 classes \n",
    "event_id = {'rest': 1, '13': 2, '17': 3, '21': 4}\n",
    "def get_epoched_data(subjects, tmin=tmin, tmax=tmax, event_id=event_id):\n",
    "    epoched_data = {}\n",
    "    for subject in subjects: \n",
    "        Xtrain, ytrain = extract_epochs(data[subject][\"session_0\"][run_train], event_id=event_id, tmin=tmin, tmax=tmax)\n",
    "        Xtest, ytest = extract_epochs(data[subject][\"session_0\"][run_test], event_id=event_id, tmin=tmin, tmax=tmax)\n",
    "        epoched_data[subject] = {'train': (Xtrain, ytrain), 'test':(Xtest, ytest)}\n",
    "    return epoched_data\n",
    "epoched_data = get_epoched_data(subjects, tmin=tmin, tmax=tmax, event_id=event_id)"
   ]
  },
  {
   "cell_type": "markdown",
   "metadata": {},
   "source": [
    "## Classification: SSVEPCovariance + MDM "
   ]
  },
  {
   "cell_type": "code",
   "execution_count": 4,
   "metadata": {},
   "outputs": [],
   "source": [
    "fs = 256\n",
    "# parameters from SSVEPCovariance\n",
    "flickering_frequencies = (13, 17, 21)\n",
    "bandwidth = 4\n",
    "order = 2\n",
    "filter_design = 'iir'\n",
    "padlen = None\n",
    "\n",
    "clf = make_pipeline(SSVEPCovariance(fs, flickering_frequencies,'scm', padlen= padlen, bandwidth=bandwidth, order=order), MDM())\n",
    "\n",
    "acc_scores_4classes = []\n",
    "for subject in subjects: \n",
    "    Xtrain, ytrain = epoched_data[subject]['train']\n",
    "    Xtest, ytest = epoched_data[subject]['test']\n",
    "    clf.fit(Xtrain, ytrain)\n",
    "    ypred = clf.predict(Xtest)\n",
    "    acc_scores_4classes.append(accuracy_score(ypred, ytest))\n",
    "df = pd.DataFrame(acc_scores_4classes, columns=['accuracy'], index=subjects).reset_index().rename({'index':'subjects'}, axis=1)"
   ]
  },
  {
   "cell_type": "code",
   "execution_count": 5,
   "metadata": {},
   "outputs": [
    {
     "data": {
      "image/png": "[encoded data removed]",
      "text/plain": [
       "<Figure size 720x432 with 1 Axes>"
      ]
     },
     "metadata": {
      "needs_background": "light"
     },
     "output_type": "display_data"
    }
   ],
   "source": [
    "plt.figure(figsize=(10, 6))\n",
    "sns.barplot(x=\"subjects\", y=\"accuracy\", data=df)\n",
    "plt.title('Accuracy for SSVEP-Covariance + MDM \\n Train on run_0, test on run_1', fontsize=15)\n",
    "plt.show()"
   ]
  },
  {
   "cell_type": "markdown",
   "metadata": {},
   "source": [
    "### Parameter optimisation with grid search "
   ]
  },
  {
   "cell_type": "code",
   "execution_count": 6,
   "metadata": {},
   "outputs": [],
   "source": [
    "# parameters of epoching\n",
    "list_tmax = [4, 5, 6] \n",
    "# parameters from SSVEPCovariance\n",
    "fs = 256\n",
    "flickering_frequencies = (13, 17, 21)\n",
    "list_bandwidth = [1, 2, 3, 4]\n",
    "list_order = [2, 4, 6, 8]\n",
    "filter_design = 'iir'\n",
    "padlen = None\n",
    "\n",
    "\n",
    "\n",
    "subjects = data.keys()\n",
    "event_id = {'rest': 1, '13': 2, '17': 3, '21': 4}\n",
    "\n",
    "scores = []\n",
    "\n",
    "for order in list_order:\n",
    "    for bandwidth in list_bandwidth:          \n",
    "        # for each combination of parameters, train pipeeline\n",
    "        clf = make_pipeline(SSVEPCovariance(fs, flickering_frequencies,'lwf', padlen= padlen, bandwidth=bandwidth, order=order), MDM())\n",
    "        for tmax in list_tmax:\n",
    "            epoched_data = get_epoched_data(subjects, tmax=tmax, event_id=event_id)\n",
    "            for subject in epoched_data.keys():\n",
    "                    Xtrain, ytrain = epoched_data[subject]['train']\n",
    "                    Xtest, ytest = epoched_data[subject]['test']\n",
    "                    ypred = clf.fit(Xtrain, ytrain).predict(Xtest)\n",
    "                    score = accuracy_score(ytest, ypred)\n",
    "                    # if we got a better score, store the score and parametersab\n",
    "                    scores.append({'subject': subject, 'order': order, 'tmax': tmax , 'bandwidth': bandwidth, 'score': score})  \n"
   ]
  },
  {
   "cell_type": "code",
   "execution_count": 7,
   "metadata": {},
   "outputs": [
    {
     "name": "stdout",
     "output_type": "stream",
     "text": [
      "Best params are order 2, bandwidth 1 and tmax 6\n"
     ]
    },
    {
     "data": {
      "image/png": "[encoded data removed]",
      "text/plain": [
       "<Figure size 1080x360 with 3 Axes>"
      ]
     },
     "metadata": {
      "needs_background": "light"
     },
     "output_type": "display_data"
    }
   ],
   "source": [
    "df = pd.DataFrame(scores)\n",
    "\n",
    "f, ax = plt.subplots(1, 3, sharey=True, figsize=(15, 5))\n",
    "for k_var, variable in enumerate(['order', 'bandwidth', 'tmax']):\n",
    "    df_melt = df[[variable, 'score', 'subject']].melt(['score', 'subject'], value_name=variable)\n",
    "    sns.barplot(data=df_melt, x=variable, y='score', ax=ax[k_var])\n",
    "plt.suptitle('Paramter grid search SSVEP-Covariance + MDM \\n Train on run_0, test on run_1', fontsize=15)\n",
    "\n",
    "best_order, best_bandwidth, best_tmax =  df.groupby(['order', 'bandwidth', 'tmax'])['score'].mean().idxmax()\n",
    "print(f'Best params are order {best_order}, bandwidth {best_bandwidth} and tmax {best_tmax}')"
   ]
  }
 ],
 "metadata": {
  "kernelspec": {
   "display_name": "Python 3",
   "language": "python",
   "name": "python3"
  },
  "language_info": {
   "codemirror_mode": {
    "name": "ipython",
    "version": 3
   },
   "file_extension": ".py",
   "mimetype": "text/x-python",
   "name": "python",
   "nbconvert_exporter": "python",
   "pygments_lexer": "ipython3",
   "version": "3.7.7"
  },
  "pycharm": {
   "stem_cell": {
    "cell_type": "raw",
    "metadata": {
     "collapsed": false
    },
    "source": []
   }
  }
 },
 "nbformat": 4,
 "nbformat_minor": 4
}
